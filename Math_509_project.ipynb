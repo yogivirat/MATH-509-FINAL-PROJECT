{
  "cells": [
    {
      "cell_type": "markdown",
      "metadata": {
        "colab_type": "text",
        "id": "view-in-github"
      },
      "source": [
        "<a href=\"https://colab.research.google.com/github/yogivirat/MATH-509-FINAL-PROJECT/blob/master/Math_509_project.ipynb\" target=\"_parent\"><img src=\"https://colab.research.google.com/assets/colab-badge.svg\" alt=\"Open In Colab\"/></a>"
      ]
    },
    {
      "cell_type": "code",
      "execution_count": null,
      "metadata": {
        "id": "dS9wQq2aEkt4"
      },
      "outputs": [],
      "source": []
    },
    {
      "cell_type": "markdown",
      "metadata": {
        "id": "HDdJ67IVEkSp"
      },
      "source": [
        "# MATH 509 Final Project\n",
        "\n",
        "### Project Description\n",
        "\n",
        "In today's fast-paced digital landscape, finding personalized recommendations for\n",
        "books, movies, games, and social media influencers can be overwhelming. Our project aims to\n",
        "address this challenge by developing a user-friendly Recommender System (RS) that simplifies\n",
        "the process of discovering enjoyable content across various platforms. By leveraging\n",
        "Collaborative Filtering (CF) and Matrix Factorization (MF) techniques, our RS will provide\n",
        "fast and accurate recommendations tailored to individual preferences.\n",
        "List of Goals:\n",
        "1. Develop an efficient and scalable RS capable of handling large datasets and delivering\n",
        "real-time recommendations to users.\n",
        "2. Incorporate Collaborative Filtering algorithms, including Memory-Based Collaborative\n",
        "Filtering and Model-Based Collaborative Filtering, to analyze user preferences and\n",
        "generate personalized recommendations.\n",
        "3. Utilize Matrix Factorization techniques to learn latent user preferences and item\n",
        "attributes, thereby enhancing the accuracy of recommendations.\n",
        "4. Design an intuitive user interface that enables users to interact effortlessly with the RS\n",
        "and receive personalized recommendations across different content categories.\n",
        "5. Fine-tune the performance of the RS to ensure swift response times and efficient\n",
        "resource utilization, thereby providing users with a seamless experience.\n",
        "6. Conduct thorough evaluations and testing to gauge the effectiveness and accuracy of\n",
        "the RS in generating relevant recommendations for users.\n",
        "By achieving these goals, our project aims to simplify the process of discovering enjoyable\n",
        "content for users while making a valuable contribution to the field of Recommender Systems"
      ]
    },
    {
      "cell_type": "markdown",
      "metadata": {
        "id": "Gdm4MPxjB7_2"
      },
      "source": [
        "Data Set Link: https://grouplens.org/datasets/hetrec-2011/ || https://drive.google.com/drive/folders/1YPYlOG7xbTqQ8jy5IetnL7beO64hKhvG?usp=sharing\n"
      ]
    },
    {
      "cell_type": "code",
      "execution_count": null,
      "metadata": {
        "id": "T7Z9YMLyD44Q"
      },
      "outputs": [],
      "source": [
        "import numpy as np\n",
        "import tensorflow as tf\n",
        "from tensorflow import keras\n",
        "import pandas as pd\n",
        "import seaborn as sns\n",
        "from pylab import rcParams\n",
        "import string\n",
        "import re\n",
        "import matplotlib.pyplot as plt\n",
        "import math\n",
        "from matplotlib import rc\n",
        "from google.colab import drive\n",
        "from sklearn.model_selection import train_test_split\n",
        "from collections import Counter, defaultdict\n",
        "from sklearn.metrics import accuracy_score\n",
        "import matplotlib.ticker as ticker\n",
        "from math import sqrt\n",
        "\n",
        "\n",
        "from sklearn.metrics import mean_squared_error"
      ]
    },
    {
      "cell_type": "code",
      "execution_count": null,
      "metadata": {},
      "outputs": [],
      "source": [
        "import matplotlib.pyplot as plt\n",
        "import seaborn as sns\n",
        "import matplotlib.ticker as ticker"
      ]
    },
    {
      "cell_type": "code",
      "execution_count": null,
      "metadata": {
        "id": "Yze2aoy_DjM9"
      },
      "outputs": [],
      "source": [
        "from sklearn.metrics import mean_squared_error\n",
        "\n",
        "%matplotlib inline\n",
        "\n",
        "sns.set(style='whitegrid', palette='muted', font_scale=1.3)\n",
        "\n",
        "rcParams['figure.figsize'] = 14, 8\n",
        "\n",
        "RANDOM_SEED = 42\n"
      ]
    },
    {
      "cell_type": "code",
      "execution_count": 2,
      "metadata": {
        "colab": {
          "base_uri": "https://localhost:8080/"
        },
        "id": "IWZekm_mC42N",
        "outputId": "fdf13c17-f1ce-4ecd-d1b4-a79c2a4965e3"
      },
      "outputs": [
        {
          "name": "stdout",
          "output_type": "stream",
          "text": [
            "Mounted at /content/drive\n"
          ]
        }
      ],
      "source": [
        "drive.mount(\"/content/drive\")"
      ]
    },
    {
      "cell_type": "code",
      "execution_count": 9,
      "metadata": {
        "id": "QVxK6RAHC_92"
      },
      "outputs": [],
      "source": [
        "plays = pd.read_csv('/content/drive/My Drive/final_dataSet/user_artists.dat', sep='\\t')\n"
      ]
    },
    {
      "cell_type": "code",
      "execution_count": 10,
      "metadata": {
        "id": "1o17bQuYDVQ0"
      },
      "outputs": [],
      "source": [
        "artists = pd.read_csv('/content/drive/My Drive/final_dataSet/artists.dat', sep='\\t', usecols=['id','name'])"
      ]
    },
    {
      "cell_type": "code",
      "execution_count": 11,
      "metadata": {
        "id": "fxQLftssEC6a"
      },
      "outputs": [],
      "source": [
        "ap = pd.merge(\n",
        "  artists, plays,\n",
        "  how=\"inner\",\n",
        "  left_on=\"id\",\n",
        "  right_on=\"artistID\"\n",
        ")"
      ]
    },
    {
      "cell_type": "code",
      "execution_count": 12,
      "metadata": {
        "id": "VS0AB62hEFde"
      },
      "outputs": [],
      "source": [
        "ap = ap.rename(columns={\"weight\": \"playCount\"})"
      ]
    },
    {
      "cell_type": "code",
      "execution_count": 13,
      "metadata": {
        "colab": {
          "base_uri": "https://localhost:8080/",
          "height": 206
        },
        "id": "lZ1vGmaiEIU7",
        "outputId": "af26b5af-66c9-4998-b4a8-447d1b2631b2"
      },
      "outputs": [
        {
          "data": {
            "application/vnd.google.colaboratory.intrinsic+json": {
              "summary": "{\n  \"name\": \"ap\",\n  \"rows\": 92834,\n  \"fields\": [\n    {\n      \"column\": \"id\",\n      \"properties\": {\n        \"dtype\": \"number\",\n        \"std\": 4383,\n        \"min\": 1,\n        \"max\": 18745,\n        \"num_unique_values\": 17632,\n        \"samples\": [\n          6100,\n          5587,\n          11171\n        ],\n        \"semantic_type\": \"\",\n        \"description\": \"\"\n      }\n    },\n    {\n      \"column\": \"name\",\n      \"properties\": {\n        \"dtype\": \"category\",\n        \"num_unique_values\": 17632,\n        \"samples\": [\n          \"DJ Ear\",\n          \"www.baixarsertanejo.com\",\n          \"Roma Kenga\"\n        ],\n        \"semantic_type\": \"\",\n        \"description\": \"\"\n      }\n    },\n    {\n      \"column\": \"userID\",\n      \"properties\": {\n        \"dtype\": \"number\",\n        \"std\": 610,\n        \"min\": 2,\n        \"max\": 2100,\n        \"num_unique_values\": 1892,\n        \"samples\": [\n          2003,\n          1198,\n          563\n        ],\n        \"semantic_type\": \"\",\n        \"description\": \"\"\n      }\n    },\n    {\n      \"column\": \"artistID\",\n      \"properties\": {\n        \"dtype\": \"number\",\n        \"std\": 4383,\n        \"min\": 1,\n        \"max\": 18745,\n        \"num_unique_values\": 17632,\n        \"samples\": [\n          6100,\n          5587,\n          11171\n        ],\n        \"semantic_type\": \"\",\n        \"description\": \"\"\n      }\n    },\n    {\n      \"column\": \"playCount\",\n      \"properties\": {\n        \"dtype\": \"number\",\n        \"std\": 3751,\n        \"min\": 1,\n        \"max\": 352698,\n        \"num_unique_values\": 5436,\n        \"samples\": [\n          60877,\n          6219,\n          2336\n        ],\n        \"semantic_type\": \"\",\n        \"description\": \"\"\n      }\n    }\n  ]\n}",
              "type": "dataframe",
              "variable_name": "ap"
            },
            "text/html": [
              "\n",
              "  <div id=\"df-11b063b9-23c7-4c6b-9a62-4bc00b5107af\" class=\"colab-df-container\">\n",
              "    <div>\n",
              "<style scoped>\n",
              "    .dataframe tbody tr th:only-of-type {\n",
              "        vertical-align: middle;\n",
              "    }\n",
              "\n",
              "    .dataframe tbody tr th {\n",
              "        vertical-align: top;\n",
              "    }\n",
              "\n",
              "    .dataframe thead th {\n",
              "        text-align: right;\n",
              "    }\n",
              "</style>\n",
              "<table border=\"1\" class=\"dataframe\">\n",
              "  <thead>\n",
              "    <tr style=\"text-align: right;\">\n",
              "      <th></th>\n",
              "      <th>id</th>\n",
              "      <th>name</th>\n",
              "      <th>userID</th>\n",
              "      <th>artistID</th>\n",
              "      <th>playCount</th>\n",
              "    </tr>\n",
              "  </thead>\n",
              "  <tbody>\n",
              "    <tr>\n",
              "      <th>0</th>\n",
              "      <td>1</td>\n",
              "      <td>MALICE MIZER</td>\n",
              "      <td>34</td>\n",
              "      <td>1</td>\n",
              "      <td>212</td>\n",
              "    </tr>\n",
              "    <tr>\n",
              "      <th>1</th>\n",
              "      <td>1</td>\n",
              "      <td>MALICE MIZER</td>\n",
              "      <td>274</td>\n",
              "      <td>1</td>\n",
              "      <td>483</td>\n",
              "    </tr>\n",
              "    <tr>\n",
              "      <th>2</th>\n",
              "      <td>1</td>\n",
              "      <td>MALICE MIZER</td>\n",
              "      <td>785</td>\n",
              "      <td>1</td>\n",
              "      <td>76</td>\n",
              "    </tr>\n",
              "    <tr>\n",
              "      <th>3</th>\n",
              "      <td>2</td>\n",
              "      <td>Diary of Dreams</td>\n",
              "      <td>135</td>\n",
              "      <td>2</td>\n",
              "      <td>1021</td>\n",
              "    </tr>\n",
              "    <tr>\n",
              "      <th>4</th>\n",
              "      <td>2</td>\n",
              "      <td>Diary of Dreams</td>\n",
              "      <td>257</td>\n",
              "      <td>2</td>\n",
              "      <td>152</td>\n",
              "    </tr>\n",
              "  </tbody>\n",
              "</table>\n",
              "</div>\n",
              "    <div class=\"colab-df-buttons\">\n",
              "\n",
              "  <div class=\"colab-df-container\">\n",
              "    <button class=\"colab-df-convert\" onclick=\"convertToInteractive('df-11b063b9-23c7-4c6b-9a62-4bc00b5107af')\"\n",
              "            title=\"Convert this dataframe to an interactive table.\"\n",
              "            style=\"display:none;\">\n",
              "\n",
              "  <svg xmlns=\"http://www.w3.org/2000/svg\" height=\"24px\" viewBox=\"0 -960 960 960\">\n",
              "    <path d=\"M120-120v-720h720v720H120Zm60-500h600v-160H180v160Zm220 220h160v-160H400v160Zm0 220h160v-160H400v160ZM180-400h160v-160H180v160Zm440 0h160v-160H620v160ZM180-180h160v-160H180v160Zm440 0h160v-160H620v160Z\"/>\n",
              "  </svg>\n",
              "    </button>\n",
              "\n",
              "  <style>\n",
              "    .colab-df-container {\n",
              "      display:flex;\n",
              "      gap: 12px;\n",
              "    }\n",
              "\n",
              "    .colab-df-convert {\n",
              "      background-color: #E8F0FE;\n",
              "      border: none;\n",
              "      border-radius: 50%;\n",
              "      cursor: pointer;\n",
              "      display: none;\n",
              "      fill: #1967D2;\n",
              "      height: 32px;\n",
              "      padding: 0 0 0 0;\n",
              "      width: 32px;\n",
              "    }\n",
              "\n",
              "    .colab-df-convert:hover {\n",
              "      background-color: #E2EBFA;\n",
              "      box-shadow: 0px 1px 2px rgba(60, 64, 67, 0.3), 0px 1px 3px 1px rgba(60, 64, 67, 0.15);\n",
              "      fill: #174EA6;\n",
              "    }\n",
              "\n",
              "    .colab-df-buttons div {\n",
              "      margin-bottom: 4px;\n",
              "    }\n",
              "\n",
              "    [theme=dark] .colab-df-convert {\n",
              "      background-color: #3B4455;\n",
              "      fill: #D2E3FC;\n",
              "    }\n",
              "\n",
              "    [theme=dark] .colab-df-convert:hover {\n",
              "      background-color: #434B5C;\n",
              "      box-shadow: 0px 1px 3px 1px rgba(0, 0, 0, 0.15);\n",
              "      filter: drop-shadow(0px 1px 2px rgba(0, 0, 0, 0.3));\n",
              "      fill: #FFFFFF;\n",
              "    }\n",
              "  </style>\n",
              "\n",
              "    <script>\n",
              "      const buttonEl =\n",
              "        document.querySelector('#df-11b063b9-23c7-4c6b-9a62-4bc00b5107af button.colab-df-convert');\n",
              "      buttonEl.style.display =\n",
              "        google.colab.kernel.accessAllowed ? 'block' : 'none';\n",
              "\n",
              "      async function convertToInteractive(key) {\n",
              "        const element = document.querySelector('#df-11b063b9-23c7-4c6b-9a62-4bc00b5107af');\n",
              "        const dataTable =\n",
              "          await google.colab.kernel.invokeFunction('convertToInteractive',\n",
              "                                                    [key], {});\n",
              "        if (!dataTable) return;\n",
              "\n",
              "        const docLinkHtml = 'Like what you see? Visit the ' +\n",
              "          '<a target=\"_blank\" href=https://colab.research.google.com/notebooks/data_table.ipynb>data table notebook</a>'\n",
              "          + ' to learn more about interactive tables.';\n",
              "        element.innerHTML = '';\n",
              "        dataTable['output_type'] = 'display_data';\n",
              "        await google.colab.output.renderOutput(dataTable, element);\n",
              "        const docLink = document.createElement('div');\n",
              "        docLink.innerHTML = docLinkHtml;\n",
              "        element.appendChild(docLink);\n",
              "      }\n",
              "    </script>\n",
              "  </div>\n",
              "\n",
              "\n",
              "<div id=\"df-f26cce3a-f089-40d0-85e1-10d69834d17a\">\n",
              "  <button class=\"colab-df-quickchart\" onclick=\"quickchart('df-f26cce3a-f089-40d0-85e1-10d69834d17a')\"\n",
              "            title=\"Suggest charts\"\n",
              "            style=\"display:none;\">\n",
              "\n",
              "<svg xmlns=\"http://www.w3.org/2000/svg\" height=\"24px\"viewBox=\"0 0 24 24\"\n",
              "     width=\"24px\">\n",
              "    <g>\n",
              "        <path d=\"M19 3H5c-1.1 0-2 .9-2 2v14c0 1.1.9 2 2 2h14c1.1 0 2-.9 2-2V5c0-1.1-.9-2-2-2zM9 17H7v-7h2v7zm4 0h-2V7h2v10zm4 0h-2v-4h2v4z\"/>\n",
              "    </g>\n",
              "</svg>\n",
              "  </button>\n",
              "\n",
              "<style>\n",
              "  .colab-df-quickchart {\n",
              "      --bg-color: #E8F0FE;\n",
              "      --fill-color: #1967D2;\n",
              "      --hover-bg-color: #E2EBFA;\n",
              "      --hover-fill-color: #174EA6;\n",
              "      --disabled-fill-color: #AAA;\n",
              "      --disabled-bg-color: #DDD;\n",
              "  }\n",
              "\n",
              "  [theme=dark] .colab-df-quickchart {\n",
              "      --bg-color: #3B4455;\n",
              "      --fill-color: #D2E3FC;\n",
              "      --hover-bg-color: #434B5C;\n",
              "      --hover-fill-color: #FFFFFF;\n",
              "      --disabled-bg-color: #3B4455;\n",
              "      --disabled-fill-color: #666;\n",
              "  }\n",
              "\n",
              "  .colab-df-quickchart {\n",
              "    background-color: var(--bg-color);\n",
              "    border: none;\n",
              "    border-radius: 50%;\n",
              "    cursor: pointer;\n",
              "    display: none;\n",
              "    fill: var(--fill-color);\n",
              "    height: 32px;\n",
              "    padding: 0;\n",
              "    width: 32px;\n",
              "  }\n",
              "\n",
              "  .colab-df-quickchart:hover {\n",
              "    background-color: var(--hover-bg-color);\n",
              "    box-shadow: 0 1px 2px rgba(60, 64, 67, 0.3), 0 1px 3px 1px rgba(60, 64, 67, 0.15);\n",
              "    fill: var(--button-hover-fill-color);\n",
              "  }\n",
              "\n",
              "  .colab-df-quickchart-complete:disabled,\n",
              "  .colab-df-quickchart-complete:disabled:hover {\n",
              "    background-color: var(--disabled-bg-color);\n",
              "    fill: var(--disabled-fill-color);\n",
              "    box-shadow: none;\n",
              "  }\n",
              "\n",
              "  .colab-df-spinner {\n",
              "    border: 2px solid var(--fill-color);\n",
              "    border-color: transparent;\n",
              "    border-bottom-color: var(--fill-color);\n",
              "    animation:\n",
              "      spin 1s steps(1) infinite;\n",
              "  }\n",
              "\n",
              "  @keyframes spin {\n",
              "    0% {\n",
              "      border-color: transparent;\n",
              "      border-bottom-color: var(--fill-color);\n",
              "      border-left-color: var(--fill-color);\n",
              "    }\n",
              "    20% {\n",
              "      border-color: transparent;\n",
              "      border-left-color: var(--fill-color);\n",
              "      border-top-color: var(--fill-color);\n",
              "    }\n",
              "    30% {\n",
              "      border-color: transparent;\n",
              "      border-left-color: var(--fill-color);\n",
              "      border-top-color: var(--fill-color);\n",
              "      border-right-color: var(--fill-color);\n",
              "    }\n",
              "    40% {\n",
              "      border-color: transparent;\n",
              "      border-right-color: var(--fill-color);\n",
              "      border-top-color: var(--fill-color);\n",
              "    }\n",
              "    60% {\n",
              "      border-color: transparent;\n",
              "      border-right-color: var(--fill-color);\n",
              "    }\n",
              "    80% {\n",
              "      border-color: transparent;\n",
              "      border-right-color: var(--fill-color);\n",
              "      border-bottom-color: var(--fill-color);\n",
              "    }\n",
              "    90% {\n",
              "      border-color: transparent;\n",
              "      border-bottom-color: var(--fill-color);\n",
              "    }\n",
              "  }\n",
              "</style>\n",
              "\n",
              "  <script>\n",
              "    async function quickchart(key) {\n",
              "      const quickchartButtonEl =\n",
              "        document.querySelector('#' + key + ' button');\n",
              "      quickchartButtonEl.disabled = true;  // To prevent multiple clicks.\n",
              "      quickchartButtonEl.classList.add('colab-df-spinner');\n",
              "      try {\n",
              "        const charts = await google.colab.kernel.invokeFunction(\n",
              "            'suggestCharts', [key], {});\n",
              "      } catch (error) {\n",
              "        console.error('Error during call to suggestCharts:', error);\n",
              "      }\n",
              "      quickchartButtonEl.classList.remove('colab-df-spinner');\n",
              "      quickchartButtonEl.classList.add('colab-df-quickchart-complete');\n",
              "    }\n",
              "    (() => {\n",
              "      let quickchartButtonEl =\n",
              "        document.querySelector('#df-f26cce3a-f089-40d0-85e1-10d69834d17a button');\n",
              "      quickchartButtonEl.style.display =\n",
              "        google.colab.kernel.accessAllowed ? 'block' : 'none';\n",
              "    })();\n",
              "  </script>\n",
              "</div>\n",
              "    </div>\n",
              "  </div>\n"
            ],
            "text/plain": [
              "   id             name  userID  artistID  playCount\n",
              "0   1     MALICE MIZER      34         1        212\n",
              "1   1     MALICE MIZER     274         1        483\n",
              "2   1     MALICE MIZER     785         1         76\n",
              "3   2  Diary of Dreams     135         2       1021\n",
              "4   2  Diary of Dreams     257         2        152"
            ]
          },
          "execution_count": 13,
          "metadata": {},
          "output_type": "execute_result"
        }
      ],
      "source": [
        "ap.head()"
      ]
    },
    {
      "cell_type": "markdown",
      "metadata": {},
      "source": [
        "## EXPLORATION"
      ]
    },
    {
      "cell_type": "code",
      "execution_count": null,
      "metadata": {
        "id": "ZOeZJFa-EJ50"
      },
      "outputs": [],
      "source": [
        "artist_rank = ap.groupby(['name']) \\\n",
        "  .agg({'userID' : 'count', 'playCount' : 'sum'}) \\\n",
        "  .rename(columns={\"userID\" : 'totalUniqueUsers', \"playCount\" : \"totalArtistPlays\"}) \\\n",
        "  .sort_values(['totalArtistPlays'], ascending=False)\n",
        "\n",
        "artist_rank['avgUserPlays'] = artist_rank['totalArtistPlays'] / artist_rank['totalUniqueUsers']"
      ]
    },
    {
      "cell_type": "code",
      "execution_count": null,
      "metadata": {},
      "outputs": [],
      "source": [
        "ap = ap.join(artist_rank, on=\"name\", how=\"inner\") \\\n",
        "  .sort_values(['playCount'], ascending=False)"
      ]
    },
    {
      "cell_type": "code",
      "execution_count": null,
      "metadata": {},
      "outputs": [],
      "source": [
        "ap.head()"
      ]
    },
    {
      "cell_type": "code",
      "execution_count": null,
      "metadata": {},
      "outputs": [],
      "source": [
        "def bar_chart_int(x, y, x_label, y_label, title, caption, total_val):\n",
        "    fig, ax = plt.subplots()\n",
        "    fig.set_size_inches(16, 5)\n",
        "    ax = sns.barplot(x=x[:20], y=y[:20], palette='Blues_r')  # Adjusted to use keyword arguments\n",
        "    ax.set_xlabel(x_label)\n",
        "    ax.set_ylabel(y_label)\n",
        "    ax.set_title(title)\n",
        "    ax.get_yaxis().set_major_formatter(ticker.FuncFormatter(lambda x, p: '{:,}'.format(int(x))))\n",
        "\n",
        "    # our bar label placement\n",
        "    for p in ax.patches:\n",
        "        height = p.get_height()\n",
        "        pct = 100*(height/total_val)\n",
        "        ax.text(p.get_x()+p.get_width()/2.,\n",
        "                height + 3,\n",
        "                '{:1.1f}%'.format(pct),\n",
        "                ha=\"center\",verticalalignment='bottom',color='black', fontsize=12) \n",
        "\n",
        "    # our caption statement\n",
        "    ax.text(19, max(y[:20])*0.95, caption,horizontalalignment='right')\n",
        "\n",
        "    plt.xticks(rotation=90)\n",
        "    plt.show()"
      ]
    },
    {
      "cell_type": "code",
      "execution_count": null,
      "metadata": {},
      "outputs": [],
      "source": [
        "artist_rank.head()"
      ]
    },
    {
      "cell_type": "code",
      "execution_count": null,
      "metadata": {},
      "outputs": [],
      "source": [
        "ap.head()"
      ]
    },
    {
      "cell_type": "code",
      "execution_count": null,
      "metadata": {},
      "outputs": [],
      "source": [
        "ax = ap.playCount.value_counts().hist(bins=100)\n",
        "ax.set_xlim((0, 200))\n",
        "ax.set_title(\"Artist played count\")\n",
        "ax.set_xlabel(\"user count\")\n",
        "ax.set_ylabel(\"played times\");"
      ]
    },
    {
      "cell_type": "code",
      "execution_count": null,
      "metadata": {},
      "outputs": [],
      "source": [
        "c2 = artist_rank.sort_values(['totalUniqueUsers'],ascending=False)\n",
        "x = c2.index\n",
        "y = c2.totalUniqueUsers\n",
        "x_label = 'Artist Name'\n",
        "y_label = 'Unique Users Played'\n",
        "title = 'Unique Users per Artist'\n",
        "caption = 'Percentage of total unique users'\n",
        "total_val = ap.userID.nunique()\n",
        "\n",
        "bar_chart_int(x,y,x_label,y_label,title,caption,total_val)"
      ]
    },
    {
      "cell_type": "code",
      "execution_count": null,
      "metadata": {},
      "outputs": [],
      "source": [
        "c1 = artist_rank\n",
        "x = c1.index\n",
        "y = c1.totalArtistPlays\n",
        "x_label = 'Artist Name'\n",
        "y_label = 'Total Artist Plays'\n",
        "title = 'Total Plays by Artist'\n",
        "caption = 'Percentage of total plays'\n",
        "total_val = c1.totalArtistPlays.sum()\n",
        "\n",
        "bar_chart_int(x,y,x_label,y_label,title,caption,total_val)"
      ]
    },
    {
      "cell_type": "code",
      "execution_count": null,
      "metadata": {},
      "outputs": [],
      "source": [
        "top_artists = artist_rank.sort_values(['totalArtistPlays'], ascending=False).index[:12]\n",
        "\n",
        "x = artist_rank.totalUniqueUsers\n",
        "y = artist_rank.totalArtistPlays\n",
        "labels = artist_rank.index\n",
        "\n",
        "fig, ax = plt.subplots(figsize=(15,10))\n",
        "sns.regplot(x=x, y=y, ax=ax)  # Pass x and y as keyword arguments\n",
        "ax.set_title('Artist Popularity: Play Count vs Unique Users')\n",
        "ax.yaxis.set_major_formatter(ticker.FuncFormatter(lambda y, _: '{:,.0f}'.format(y)))\n",
        "ax.set_xlabel('Total Unique Users')\n",
        "ax.set_ylabel('Total Artist Plays')\n",
        "\n",
        "for i, t in enumerate(labels):\n",
        "    if t in top_artists:\n",
        "        ax.annotate(t, (x[i], y[i]))\n",
        "\n",
        "plt.show()"
      ]
    },
    {
      "cell_type": "code",
      "execution_count": null,
      "metadata": {},
      "outputs": [],
      "source": [
        "pc = ap.playCount\n",
        "play_count_scaled = (pc - pc.min()) / (pc.max() - pc.min())\n",
        "\n",
        "ap = ap.assign(playCountScaled=play_count_scaled)"
      ]
    },
    {
      "cell_type": "code",
      "execution_count": null,
      "metadata": {},
      "outputs": [],
      "source": [
        "ratings_df = ap.pivot(\n",
        "    index='userID', \n",
        "    columns='artistID', \n",
        "    values='playCountScaled'\n",
        ")"
      ]
    },
    {
      "cell_type": "code",
      "execution_count": null,
      "metadata": {},
      "outputs": [],
      "source": [
        "ratings = ratings_df.fillna(0).values"
      ]
    },
    {
      "cell_type": "code",
      "execution_count": null,
      "metadata": {},
      "outputs": [],
      "source": [
        "sparsity = float(len(ratings.nonzero()[0]))\n",
        "sparsity /= (ratings.shape[0] * ratings.shape[1])\n",
        "sparsity *= 100\n",
        "print('{:.2f}%'.format(sparsity))"
      ]
    },
    {
      "cell_type": "code",
      "execution_count": null,
      "metadata": {},
      "outputs": [],
      "source": [
        "MIN_USER_RATINGS = 35\n",
        "DELETE_RATING_COUNT = 15\n",
        "\n",
        "def train_test_split(ratings):\n",
        "    \n",
        "    validation = np.zeros(ratings.shape)\n",
        "    train = ratings.copy()\n",
        "    \n",
        "    for user in np.arange(ratings.shape[0]):\n",
        "        if len(ratings[user,:].nonzero()[0]) >= MIN_USER_RATINGS:\n",
        "            val_ratings = np.random.choice(\n",
        "                ratings[user, :].nonzero()[0], \n",
        "                size=DELETE_RATING_COUNT,\n",
        "                replace=False\n",
        "            )\n",
        "            train[user, val_ratings] = 0\n",
        "            validation[user, val_ratings] = ratings[user, val_ratings]\n",
        "    return train, validation"
      ]
    },
    {
      "cell_type": "code",
      "execution_count": null,
      "metadata": {},
      "outputs": [],
      "source": [
        "train, val = train_test_split(ratings)\n"
      ]
    },
    {
      "cell_type": "code",
      "execution_count": null,
      "metadata": {},
      "outputs": [],
      "source": [
        "train.shape"
      ]
    },
    {
      "cell_type": "code",
      "execution_count": null,
      "metadata": {},
      "outputs": [],
      "source": [
        "def rmse(prediction, ground_truth):\n",
        "    prediction = prediction[ground_truth.nonzero()].flatten() \n",
        "    ground_truth = ground_truth[ground_truth.nonzero()].flatten()\n",
        "    return sqrt(mean_squared_error(prediction, ground_truth))"
      ]
    },
    {
      "cell_type": "code",
      "execution_count": null,
      "metadata": {},
      "outputs": [],
      "source": [
        "class Recommender:\n",
        "  \n",
        "  def __init__(self, n_epochs=200, n_latent_features=3, lmbda=0.1, learning_rate=0.001):\n",
        "    self.n_epochs = n_epochs\n",
        "    self.n_latent_features = n_latent_features\n",
        "    self.lmbda = lmbda\n",
        "    self.learning_rate = learning_rate\n",
        "  \n",
        "  def predictions(self, P, Q):\n",
        "    return np.dot(P.T, Q)\n",
        "  \n",
        "  def fit(self, X_train, X_val):\n",
        "    m, n = X_train.shape\n",
        "\n",
        "    self.P = 3 * np.random.rand(self.n_latent_features, m)\n",
        "    self.Q = 3 * np.random.rand(self.n_latent_features, n)\n",
        "    \n",
        "    self.train_error = []\n",
        "    self.val_error = []\n",
        "\n",
        "    users, items = X_train.nonzero()\n",
        "    \n",
        "    for epoch in range(self.n_epochs):\n",
        "        for u, i in zip(users, items):\n",
        "            error = X_train[u, i] - self.predictions(self.P[:,u], self.Q[:,i])\n",
        "            self.P[:, u] += self.learning_rate * (error * self.Q[:, i] - self.lmbda * self.P[:, u])\n",
        "            self.Q[:, i] += self.learning_rate * (error * self.P[:, u] - self.lmbda * self.Q[:, i])\n",
        "\n",
        "        train_rmse = rmse(self.predictions(self.P, self.Q), X_train)\n",
        "        val_rmse = rmse(self.predictions(self.P, self.Q), X_val)\n",
        "        self.train_error.append(train_rmse)\n",
        "        self.val_error.append(val_rmse)\n",
        "        \n",
        "    return self\n",
        "  \n",
        "  def predict(self, X_train, user_index):\n",
        "    y_hat = self.predictions(self.P, self.Q)\n",
        "    predictions_index = np.where(X_train[user_index, :] == 0)[0]\n",
        "    return y_hat[user_index, predictions_index].flatten()"
      ]
    },
    {
      "cell_type": "code",
      "execution_count": null,
      "metadata": {},
      "outputs": [],
      "source": [
        "!pip install git+https://github.com/BirkhoffG/causalgraphicalmodels.git"
      ]
    },
    {
      "cell_type": "markdown",
      "metadata": {},
      "source": [
        "## INITIAL ASSUMPTION\n",
        "\n",
        "U → R: User preferences influence user-item interactions. Users are more likely to interact with items (e.g., listen to or rate them) if they align with their preferences.\n",
        "\n",
        "I → R: Item characteristics influence user-item interactions. Items with certain characteristics (e.g., popular genres) are more likely to be interacted with by users.\n",
        "\n",
        "U ← I: User preferences may also influence item characteristics. For example, if many users prefer a certain genre, artists producing that genre may become more popular."
      ]
    },
    {
      "cell_type": "code",
      "execution_count": null,
      "metadata": {},
      "outputs": [],
      "source": [
        "import causalgraphicalmodels as cgm\n",
        "from causalgraphicalmodels import CausalGraphicalModel\n",
        "\n",
        "# Define the causal relationships in the DAG\n",
        "dag = CausalGraphicalModel(\n",
        "    nodes=[\"U\", \"I\", \"R\"],\n",
        "    edges=[\n",
        "        (\"U\", \"R\"),  # User preferences influence user-item interactions\n",
        "        (\"I\", \"R\"),  # Item characteristics influence user-item interactions\n",
        "        (\"U\", \"I\")   # User preferences influence item characteristics\n",
        "    ]\n",
        ")\n",
        "\n",
        "# Plot the DAG\n",
        "dag.draw()\n"
      ]
    },
    {
      "cell_type": "code",
      "execution_count": null,
      "metadata": {},
      "outputs": [],
      "source": [
        "recommender = Recommender().fit(train, val)"
      ]
    },
    {
      "cell_type": "code",
      "execution_count": null,
      "metadata": {},
      "outputs": [],
      "source": [
        "plt.plot(range(recommender.n_epochs), recommender.train_error, marker='o', label='Training Data');\n",
        "plt.plot(range(recommender.n_epochs), recommender.val_error, marker='v', label='Validation Data');\n",
        "plt.xlabel('Number of Epochs');\n",
        "plt.ylabel('RMSE');\n",
        "plt.legend()\n",
        "plt.grid()\n",
        "plt.show()"
      ]
    },
    {
      "cell_type": "code",
      "execution_count": null,
      "metadata": {},
      "outputs": [],
      "source": [
        "user_id = 1236\n",
        "user_index = ratings_df.index.get_loc(user_id)\n",
        "predictions_index = np.where(train[user_index, :] == 0)[0]\n",
        "\n",
        "rating_predictions = recommender.predict(train, user_index)"
      ]
    },
    {
      "cell_type": "code",
      "execution_count": null,
      "metadata": {},
      "outputs": [],
      "source": [
        "def create_artist_ratings(artists_df, artists_index, ratings, n=10):\n",
        "  artist_ids = ratings_df.columns[artists_index]\n",
        "  artist_ratings = pd.DataFrame(data=dict(artistId=artist_ids, rating=ratings))\n",
        "  top_n_artists = artist_ratings.sort_values(\"rating\", ascending=False).head(n)\n",
        "  \n",
        "  artist_recommendations = artists_df[artists_df.id.isin(top_n_artists.artistId)].reset_index(drop=True)\n",
        "  artist_recommendations['rating'] = pd.Series(top_n_artists.rating.values)\n",
        "  return artist_recommendations.sort_values(\"rating\", ascending=False)"
      ]
    },
    {
      "cell_type": "code",
      "execution_count": null,
      "metadata": {},
      "outputs": [],
      "source": [
        "existing_ratings_index = np.where(train[user_index, :] > 0)[0]\n",
        "existing_ratings = train[user_index, existing_ratings_index]\n",
        "\n",
        "create_artist_ratings(artists, existing_ratings_index, existing_ratings)"
      ]
    },
    {
      "cell_type": "code",
      "execution_count": null,
      "metadata": {},
      "outputs": [],
      "source": [
        "create_artist_ratings(artists, predictions_index, rating_predictions)"
      ]
    },
    {
      "cell_type": "markdown",
      "metadata": {},
      "source": [
        "## KALMAN FILTERING"
      ]
    },
    {
      "cell_type": "code",
      "execution_count": null,
      "metadata": {},
      "outputs": [],
      "source": [
        "# Sample 1% of the dataset\n",
        "sampled_ap = ap.sample(frac=0.5, random_state=42)  # Adjust the fraction as needed\n",
        "\n",
        "# Check the shape of the sampled dataset\n",
        "print(\"Shape of sampled dataset:\", sampled_ap.shape)"
      ]
    },
    {
      "cell_type": "code",
      "execution_count": null,
      "metadata": {},
      "outputs": [],
      "source": [
        "sampled_ap.head()"
      ]
    },
    {
      "cell_type": "code",
      "execution_count": null,
      "metadata": {},
      "outputs": [],
      "source": [
        "# Assign the normalized play counts to a new column\n",
        "sampled_ap['playCountScaled'] = play_count_scaled\n",
        "\n",
        "# Pivot the dataset\n",
        "ratings_df = sampled_ap.pivot(index='userID', columns='artistID', values='playCountScaled').fillna(0)\n",
        "\n",
        "# Convert ratings dataframe to numpy array\n",
        "ratings = ratings_df.values\n",
        "\n",
        "# Calculate sparsity\n",
        "sparsity = float(len(ratings.nonzero()[0])) / (ratings.shape[0] * ratings.shape[1]) * 100\n",
        "print(\"Sparsity of the sampled dataset: {:.2f}%\".format(sparsity))\n",
        "\n",
        "# Define constants for train-test split\n",
        "MIN_USER_RATINGS = 35\n",
        "DELETE_RATING_COUNT = 15\n",
        "\n",
        "# Function to perform train-test split\n",
        "def train_test_split(ratings):\n",
        "    validation = np.zeros(ratings.shape)\n",
        "    train = ratings.copy()\n",
        "\n",
        "    for user in np.arange(ratings.shape[0]):\n",
        "        if len(ratings[user,:].nonzero()[0]) >= MIN_USER_RATINGS:\n",
        "            val_ratings = np.random.choice(\n",
        "                ratings[user, :].nonzero()[0], \n",
        "                size=DELETE_RATING_COUNT,\n",
        "                replace=False\n",
        "            )\n",
        "            train[user, val_ratings] = 0\n",
        "            validation[user, val_ratings] = ratings[user, val_ratings]\n",
        "    return train, validation\n",
        "\n",
        "# Perform train-test split\n",
        "train, val = train_test_split(ratings)\n",
        "\n",
        "# Display the dimensions of train and validation sets\n",
        "print(\"Train set dimensions:\", train.shape)\n",
        "print(\"Validation set dimensions:\", val.shape)"
      ]
    },
    {
      "cell_type": "code",
      "execution_count": null,
      "metadata": {},
      "outputs": [],
      "source": [
        "class KalmanFilter:\n",
        "    def __init__(self, alpha, beta, initial_state_mean, initial_state_covariance, transition_covariance, observation_covariance):\n",
        "        self.alpha = alpha  # State transition coefficient\n",
        "        self.beta = beta    # Observation coefficient\n",
        "        \n",
        "        # Initialize state mean and covariance\n",
        "        self.state_mean = initial_state_mean\n",
        "        self.state_covariance = initial_state_covariance\n",
        "        \n",
        "        # Covariance matrices\n",
        "        self.transition_covariance = transition_covariance\n",
        "        self.observation_covariance = observation_covariance\n",
        "    \n",
        "    def predict(self):\n",
        "        # Predict the next state\n",
        "        self.state_mean = self.alpha * self.state_mean\n",
        "        self.state_covariance = self.alpha**2 * self.state_covariance + self.transition_covariance\n",
        "        \n",
        "    def update(self, observation):\n",
        "        # Update the state estimate based on the new observation\n",
        "        kalman_gain = self.state_covariance * self.beta / (self.beta**2 * self.state_covariance + self.observation_covariance)\n",
        "        self.state_mean += kalman_gain * (observation - self.beta * self.state_mean)\n",
        "        self.state_covariance -= kalman_gain * self.beta * self.state_covariance\n",
        "        \n",
        "    def filter(self, observations):\n",
        "        filtered_states = []\n",
        "        for observation in observations:\n",
        "            self.predict()\n",
        "            self.update(observation)\n",
        "            filtered_states.append(self.state_mean)\n",
        "        return np.array(filtered_states)\n",
        "\n",
        "# Define model parameters\n",
        "alpha = 0.8\n",
        "beta = 1.0\n",
        "initial_state_mean = 0\n",
        "initial_state_covariance = 1\n",
        "transition_covariance = 0.1\n",
        "observation_covariance = 0.5\n"
      ]
    },
    {
      "cell_type": "code",
      "execution_count": null,
      "metadata": {},
      "outputs": [],
      "source": [
        "# Initialize Kalman filter\n",
        "kf = KalmanFilter(alpha, beta, initial_state_mean, initial_state_covariance, transition_covariance, observation_covariance)\n",
        "\n",
        "# Prepare observations for each user\n",
        "unique_user_ids = sampled_ap['userID'].unique()\n",
        "filtered_states_by_user = {}\n",
        "\n",
        "# Run Kalman filter for each user\n",
        "for user_id in unique_user_ids:\n",
        "    user_play_counts = sampled_ap[sampled_ap['userID'] == user_id]['playCountScaled'].values\n",
        "    filtered_states = kf.filter(user_play_counts)\n",
        "    filtered_states_by_user[user_id] = filtered_states\n",
        "\n",
        "# Example of accessing filtered states for a specific user\n",
        "example_user_id = unique_user_ids[0]\n",
        "example_filtered_states = filtered_states_by_user[example_user_id]\n",
        "print(f\"Filtered States for User {example_user_id}:\")\n",
        "print(example_filtered_states)\n"
      ]
    },
    {
      "cell_type": "code",
      "execution_count": null,
      "metadata": {},
      "outputs": [],
      "source": [
        "class LSSM:\n",
        "    def __init__(self, n_epochs=200, n_latent_features=3, lmbda=0.1, learning_rate=0.001):\n",
        "        self.n_epochs = n_epochs\n",
        "        self.n_latent_features = n_latent_features\n",
        "        self.lmbda = lmbda\n",
        "        self.learning_rate = learning_rate\n",
        "\n",
        "    def predictions(self, P, Q):\n",
        "        return np.dot(P.T, Q)\n",
        "\n",
        "    def fit(self, X_train, X_val):\n",
        "        m, n = X_train.shape\n",
        "        self.P = 3 * np.random.rand(self.n_latent_features, m)\n",
        "        self.Q = 3 * np.random.rand(self.n_latent_features, n)\n",
        "        self.train_error = []\n",
        "        self.val_error = []\n",
        "\n",
        "        for epoch in range(self.n_epochs):\n",
        "            for u in range(m):\n",
        "                for i in range(n):\n",
        "                    if X_train[u, i] > 0:\n",
        "                        error = X_train[u, i] - np.dot(self.P[:, u], self.Q[:, i])\n",
        "                        self.P[:, u] += self.learning_rate * (error * self.Q[:, i] - self.lmbda * self.P[:, u])\n",
        "                        self.Q[:, i] += self.learning_rate * (error * self.P[:, u] - self.lmbda * self.Q[:, i])\n",
        "\n",
        "            # Calculate training and validation errors for the epoch\n",
        "            train_predictions = self.predictions(self.P, self.Q)\n",
        "            train_rmse = rmse(train_predictions, X_train)\n",
        "            val_rmse = rmse(train_predictions, X_val)\n",
        "            self.train_error.append(train_rmse)\n",
        "            self.val_error.append(val_rmse)\n",
        "\n",
        "            # Print epoch status\n",
        "            if epoch % 10 == 0:\n",
        "                print(f\"Epoch {epoch}: Training RMSE = {train_rmse}, Validation RMSE = {val_rmse}\")\n",
        "\n",
        "        return self\n",
        "\n",
        "    def mae(self, prediction, ground_truth):\n",
        "        return np.mean(np.abs(prediction - ground_truth))\n",
        "\n",
        "    def coverage(self, top_n, user_index):\n",
        "        user_predictions = self.predictions(self.P, self.Q)[user_index, :]\n",
        "        top_indices = np.argpartition(-user_predictions, top_n)[:top_n]\n",
        "        coverage = len(np.where(user_predictions[top_indices] > 0)[0]) / top_n\n",
        "        return coverage"
      ]
    },
    {
      "cell_type": "code",
      "execution_count": null,
      "metadata": {},
      "outputs": [],
      "source": [
        "# Instantiate the LSSM class\n",
        "lssm_model = LSSM(n_epochs=200, n_latent_features=3, lmbda=0.1, learning_rate=0.001)\n",
        "\n",
        "# Fit the LSSM model to the training data\n",
        "lssm_model.fit(train, val)"
      ]
    },
    {
      "cell_type": "code",
      "execution_count": null,
      "metadata": {},
      "outputs": [],
      "source": [
        "# Plot the epoch error rates\n",
        "plt.plot(range(lssm_model.n_epochs), lssm_model.train_error,marker='o', label='Training RMSE')\n",
        "plt.plot(range(lssm_model.n_epochs), lssm_model.val_error, marker='v',label='Validation RMSE')\n",
        "plt.xlabel('Epochs')\n",
        "plt.ylabel('RMSE')\n",
        "plt.title('Epoch Error Rates')\n",
        "plt.legend()\n",
        "plt.show()"
      ]
    },
    {
      "cell_type": "code",
      "execution_count": null,
      "metadata": {},
      "outputs": [],
      "source": [
        "# Extract learned latent features\n",
        "user_latent_features = lssm_model.P\n",
        "item_latent_features = lssm_model.Q\n",
        "\n",
        "# Plot posterior distributions for user latent features\n",
        "num_latent_features = user_latent_features.shape[0]\n",
        "fig, axs = plt.subplots(num_latent_features, 1, figsize=(10, 5*num_latent_features))\n",
        "fig.suptitle('Posterior Distributions of User Latent Features', fontsize=16)\n",
        "for i in range(num_latent_features):\n",
        "    axs[i].hist(user_latent_features[i], bins=30, color='skyblue', alpha=0.7)\n",
        "    axs[i].set_title(f'Latent Feature {i+1}')\n",
        "    axs[i].set_xlabel('Value')\n",
        "    axs[i].set_ylabel('Frequency')\n",
        "\n",
        "plt.tight_layout()\n",
        "plt.show()\n",
        "\n",
        "# Plot posterior distributions for item latent features\n",
        "num_latent_features = item_latent_features.shape[0]\n",
        "fig, axs = plt.subplots(num_latent_features, 1, figsize=(10, 5*num_latent_features))\n",
        "fig.suptitle('Posterior Distributions of Item Latent Features', fontsize=16)\n",
        "for i in range(num_latent_features):\n",
        "    axs[i].hist(item_latent_features[i], bins=30, color='lightgreen', alpha=0.7)\n",
        "    axs[i].set_title(f'Latent Feature {i+1}')\n",
        "    axs[i].set_xlabel('Value')\n",
        "    axs[i].set_ylabel('Frequency')\n",
        "\n",
        "plt.tight_layout()\n",
        "plt.show()\n"
      ]
    },
    {
      "cell_type": "code",
      "execution_count": null,
      "metadata": {},
      "outputs": [],
      "source": [
        "import matplotlib.pyplot as plt\n",
        "\n",
        "# CF model RMSE values over 200 epochs\n",
        "cf_training_rmse = [4.890360128948167, 1.2702533421384172, 0.7174904311685398, 0.5070622453084246, 0.3924680652571997, \n",
        "                    0.3181449014575357, 0.2652105794444253, 0.22534769181282227, 0.19421065104865096, 0.16925061945615885, \n",
        "                    0.14884739342135264, 0.13190996403077507, 0.11767160179823927, 0.10557551464961308, 0.09520672689783584, \n",
        "                    0.0862493444402953, 0.07845861406448355, 0.07164202973962444, 0.06564619505893841, 0.06034747102743732]\n",
        "\n",
        "cf_validation_rmse = [4.975711230626356, 1.4333280645618143, 0.863349524878211, 0.6385653681501853, 0.5139215479802262, \n",
        "                      0.4319578110589442, 0.37274128584059374, 0.3274384280763896, 0.2914364856692566, 0.2620365486249346, \n",
        "                      0.23752690306874125, 0.21675653094477323, 0.19891689756955616, 0.18342062729072653, 0.16982946870117088, \n",
        "                      0.1578092305912475, 0.1471003810245595, 0.13749819777894653, 0.128838982896398, 0.12099025894534568]\n",
        "\n",
        "# LSSM model RMSE values over 200 epochs\n",
        "lssm_training_rmse = [6.366275485312182, 3.0989074724113026, 2.2561041575799727, 1.8650009341540403, 1.6357208856525307, \n",
        "                      1.4824025899326378, 1.3710483453437667, 1.2855193240543803, 1.2171352550399153, 1.1607869805397317, \n",
        "                      1.1132572177514872, 1.0724112948603983, 1.036772629119924, 1.0052845612309689, 0.9771692691237346, \n",
        "                      0.9518403445665427, 0.9288465327202755, 0.9078343397602808, 0.8885224809577605, 0.87068399346432]\n",
        "\n",
        "lssm_validation_rmse = [6.366278091565758, 3.0989085548022093, 2.2561047834864705, 1.8650013146215385, 1.6357211254489372, \n",
        "                        1.4824027436889653, 1.3710484429282794, 1.2855193827173095, 1.2171352853065043, 1.160786989169136, \n",
        "                        1.1132572092882411, 1.072411272485641, 1.0367725951396047, 1.0052845173677931, 0.9771692166985678, \n",
        "                        0.9518402846151813, 0.928846466070993, 0.9078342670868176, 0.8885224028164473, 0.8706839103206843]\n",
        "\n",
        "# Plotting RMSE values over epochs\n",
        "epochs = range(0, len(cf_training_rmse) * 10, 10)  # Assuming an epoch is recorded every 10 steps\n",
        "\n",
        "plt.figure(figsize=(12, 6))\n",
        "plt.plot(epochs, cf_training_rmse, label='CF Training RMSE', color='blue')\n",
        "plt.plot(epochs, cf_validation_rmse, label='CF Validation RMSE', color='red')\n",
        "plt.plot(epochs, lssm_training_rmse, label='LSSM Training RMSE', color='green')\n",
        "plt.plot(epochs, lssm_validation_rmse, label='LSSM Validation RMSE', color='orange')\n",
        "plt.xlabel('Epochs')\n",
        "plt.ylabel('RMSE')\n",
        "plt.title('RMSE vs Epochs for CF and LSSM Recommender Models')\n",
        "plt.legend()\n",
        "plt.grid(True)\n",
        "plt.show()\n"
      ]
    },
    {
      "cell_type": "code",
      "execution_count": null,
      "metadata": {},
      "outputs": [],
      "source": []
    }
  ],
  "metadata": {
    "colab": {
      "include_colab_link": true,
      "provenance": []
    },
    "kernelspec": {
      "display_name": "Python 3",
      "name": "python3"
    },
    "language_info": {
      "name": "python"
    }
  },
  "nbformat": 4,
  "nbformat_minor": 0
}
