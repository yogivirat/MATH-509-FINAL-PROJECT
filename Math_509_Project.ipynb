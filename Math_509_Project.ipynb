{
  "cells": [
    {
      "cell_type": "markdown",
      "metadata": {
        "colab_type": "text",
        "id": "view-in-github"
      },
      "source": [
        "<a href=\"https://colab.research.google.com/github/yogivirat/MATH-509-FINAL-PROJECT/blob/master/Math_509_Project.ipynb\" target=\"_parent\"><img src=\"https://colab.research.google.com/assets/colab-badge.svg\" alt=\"Open In Colab\"/></a>"
      ]
    },
    {
      "cell_type": "code",
      "execution_count": null,
      "metadata": {
        "id": "dS9wQq2aEkt4"
      },
      "outputs": [],
      "source": []
    },
    {
      "cell_type": "markdown",
      "metadata": {
        "id": "HDdJ67IVEkSp"
      },
      "source": [
        "# MATH 509 Final Project\n",
        "\n",
        "### Project Description\n",
        "\n",
        "In today's fast-paced digital landscape, finding personalized recommendations for\n",
        "books, movies, games, and social media influencers can be overwhelming. Our project aims to\n",
        "address this challenge by developing a user-friendly Recommender System (RS) that simplifies\n",
        "the process of discovering enjoyable content across various platforms. By leveraging\n",
        "Collaborative Filtering (CF) and Matrix Factorization (MF) techniques, our RS will provide\n",
        "fast and accurate recommendations tailored to individual preferences.\n",
        "List of Goals:\n",
        "1. Develop an efficient and scalable RS capable of handling large datasets and delivering\n",
        "real-time recommendations to users.\n",
        "2. Incorporate Collaborative Filtering algorithms, including Memory-Based Collaborative\n",
        "Filtering and Model-Based Collaborative Filtering, to analyze user preferences and\n",
        "generate personalized recommendations.\n",
        "3. Utilize Matrix Factorization techniques to learn latent user preferences and item\n",
        "attributes, thereby enhancing the accuracy of recommendations.\n",
        "4. Design an intuitive user interface that enables users to interact effortlessly with the RS\n",
        "and receive personalized recommendations across different content categories.\n",
        "5. Fine-tune the performance of the RS to ensure swift response times and efficient\n",
        "resource utilization, thereby providing users with a seamless experience.\n",
        "6. Conduct thorough evaluations and testing to gauge the effectiveness and accuracy of\n",
        "the RS in generating relevant recommendations for users.\n",
        "By achieving these goals, our project aims to simplify the process of discovering enjoyable\n",
        "content for users while making a valuable contribution to the field of Recommender Systems"
      ]
    },
    {
      "cell_type": "code",
      "execution_count": null,
      "metadata": {
        "id": "T7Z9YMLyD44Q"
      },
      "outputs": [],
      "source": [
        "import numpy as np\n",
        "import tensorflow as tf\n",
        "from tensorflow import keras\n",
        "import pandas as pd\n",
        "import seaborn as sns\n",
        "import matplotlib.pyplot as plt\n",
        "import math\n",
        "from matplotlib import rc\n",
        "from google.colab import drive"
      ]
    },
    {
      "cell_type": "code",
      "execution_count": null,
      "metadata": {},
      "outputs": [],
      "source": [
        "%matplotlib inline\n",
        "\n",
        "sns.set(style='whitegrid', palette='muted', font_scale=1.3)\n",
        "\n",
        "RANDOM_SEED = 7007\n",
        "\n",
        "np.random.seed(RANDOM_SEED)"
      ]
    },
    {
      "cell_type": "code",
      "execution_count": null,
      "metadata": {},
      "outputs": [],
      "source": [
        "drive.mount(\"/content/drive\")"
      ]
    },
    {
      "cell_type": "code",
      "execution_count": null,
      "metadata": {},
      "outputs": [],
      "source": [
        "plays = pd.read_csv('/content/drive/My Drive/final_dataSet/user_artists.dat', sep='\\t')\n"
      ]
    },
    {
      "cell_type": "code",
      "execution_count": null,
      "metadata": {},
      "outputs": [],
      "source": [
        "artists = pd.read_csv('/content/drive/My Drive/final_dataSet/artists.dat', sep='\\t', usecols=['id','name'])"
      ]
    },
    {
      "cell_type": "code",
      "execution_count": null,
      "metadata": {},
      "outputs": [],
      "source": [
        "ap = pd.merge(\n",
        "  artists, plays, \n",
        "  how=\"inner\",\n",
        "  left_on=\"id\",\n",
        "  right_on=\"artistID\"\n",
        ")"
      ]
    },
    {
      "cell_type": "code",
      "execution_count": null,
      "metadata": {},
      "outputs": [],
      "source": [
        "ap = ap.rename(columns={\"weight\": \"playCount\"})"
      ]
    },
    {
      "cell_type": "code",
      "execution_count": null,
      "metadata": {},
      "outputs": [],
      "source": [
        "ap.head()"
      ]
    },
    {
      "cell_type": "code",
      "execution_count": null,
      "metadata": {},
      "outputs": [],
      "source": []
    }
  ],
  "metadata": {
    "colab": {
      "authorship_tag": "ABX9TyOroz/AYF8z2+KCjCoGV/FD",
      "include_colab_link": true,
      "provenance": []
    },
    "kernelspec": {
      "display_name": "Python 3",
      "name": "python3"
    },
    "language_info": {
      "name": "python"
    }
  },
  "nbformat": 4,
  "nbformat_minor": 0
}
